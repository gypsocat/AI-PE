{
 "cells": [
  {
   "cell_type": "markdown",
   "metadata": {},
   "source": [
    "# ![](https://ai-studio-static-online.cdn.bcebos.com/f09c4d4627784151b1f2ab17283294fe6d66caa10a5e4582b241d914cb4d39a7) 一、背景与市场需求调研\n",
    "---\n",
    "随着国家对体育健康的重视和数字化变革的推动，提高体育教学质量和科学培养青少年运动习惯变得迫在眉睫。然而，当前体育教学存在诸多问题，如：运动数据采集精确率低，效果衡量难；体育学习评价过程性缺失、维度单一；精准化教学和个体化差异指导难等。\n",
    "\n",
    "针对以上问题，需要一套集实时动作识别与分析、个性化评价与建议、长期运动档案追踪与可视化展示、专业运动指导资源与课外锻炼监督于一体的体育教学辅助系统，以推动体育教育向个性化、精准化、专业化方向发展。而随着人工智能技术的成熟，体育行业中的智慧体育应用越来越广泛。人工智能与体育的融合促进了体育科技创新，满足了多样化的体育需求。这种融合不仅为体育实践带来了新技术、新方法和新模式，也推动了体育教学的发展。\n",
    "\n",
    "![](https://ai-studio-static-online.cdn.bcebos.com/e84f48e6fbff4fd4b9d1ddf09eb825bd0c156802959144d38971d762492bd702)\n",
    "\n",
    "智慧体育是物联网、云计算、大数据等新一代信息技术运用于体育领域的最新成果，是整合教育、医疗、文化等“体育+”资源的系统性工程，通过构件数字化、网络化、智能化的运动空间、运动模式、运动生态，全面提升体育服务质量，推进体育产业转型升级，以更迅速、灵活、正确地响应人们更具个性化、多元化的体育需求。**目前智慧体育教学产品多为人工智能的应用，只能满足沉浸式运动，体育教学数据不足，不能提供更为专业化的指导，缺乏实时的互动交流和个性化的训练指导**，这些问题都有待更好的解决方案。\n"
   ]
  },
  {
   "cell_type": "markdown",
   "metadata": {},
   "source": [
    "# ![](https://ai-studio-static-online.cdn.bcebos.com/f09c4d4627784151b1f2ab17283294fe6d66caa10a5e4582b241d914cb4d39a7)二、作品概述\n",
    "---\n",
    "针对前文提及的社会现状和存在的问题，本作品基于“云-边-端”网络架构，以动作识别和文心大模型为核心，设计并实现了一个围绕多类传感器采集运动姿势数据并进行深度分析与评估，专门应用于体育教学的专业人工智能大模型，并与实际问题相结合，将其运用于智慧体育场景中，解决运动数据采集难、学生课后训练缺乏专业指导等问题，提供了动作量化、数据分析、个性化评测、智能生成教案等功能，实现了教学、训练、作业、考试、评价全场景覆盖。\n",
    "\n"
   ]
  },
  {
   "cell_type": "markdown",
   "metadata": {},
   "source": [
    "# ![](https://ai-studio-static-online.cdn.bcebos.com/f09c4d4627784151b1f2ab17283294fe6d66caa10a5e4582b241d914cb4d39a7)三、详细技术路线\n",
    "## ✨3.1 运动行为监测\n",
    "引入飞桨PaddleDetection中的PP-TinyPose实时关键点检测模型：该系统采用专为复杂体育动作设计的飞桨PP-TinyPose实时关键点检测模型，能够识别如侧身、卧躺、跳跃等非常规动作，极大提升了运动分析的精准度。为确保关键点检测的稳定性，系统利用数据增强、热力图编码解码等技术，提升了动作识别的精度与一致性。\n",
    "\n",
    "![](https://ai-studio-static-online.cdn.bcebos.com/67f747ebcfc04981ac578114dde2efb2c8c932edf53d45ba9609b9ec100163d3)"
   ]
  },
  {
   "cell_type": "markdown",
   "metadata": {},
   "source": [
    "- 安装PaddleDetection及其环境依赖"
   ]
  },
  {
   "cell_type": "code",
   "execution_count": null,
   "metadata": {
    "scrolled": true,
    "tags": []
   },
   "outputs": [],
   "source": [
    "#!git clone https://github.com/PaddlePaddle/PaddleDetection.git\n",
    "%cd PaddleDetection\n",
    "!pip install -r requirements.txt\n",
    "!python setup.py install  #如果安装过程中长时间卡住，可中断后继续重新执行"
   ]
  },
  {
   "cell_type": "markdown",
   "metadata": {},
   "source": [
    "- 验证是否安装成功 如果报错，只需执行上一步操作。"
   ]
  },
  {
   "cell_type": "code",
   "execution_count": 3,
   "metadata": {
    "execution": {
     "iopub.execute_input": "2024-10-08T14:46:19.382098Z",
     "iopub.status.busy": "2024-10-08T14:46:19.381556Z",
     "iopub.status.idle": "2024-10-08T14:46:32.625654Z",
     "shell.execute_reply": "2024-10-08T14:46:32.624732Z",
     "shell.execute_reply.started": "2024-10-08T14:46:19.382054Z"
    },
    "scrolled": true
   },
   "outputs": [
    {
     "name": "stdout",
     "output_type": "stream",
     "text": [
      "Warning: Unable to use numba in PP-Tracking, please install numba, for example(python3.7): `pip install numba==0.56.4`\r\n",
      "Warning: Unable to use numba in PP-Tracking, please install numba, for example(python3.7): `pip install numba==0.56.4`\r\n",
      ".......\r\n",
      "----------------------------------------------------------------------\r\n",
      "Ran 7 tests in 8.257s\r\n",
      "\r\n",
      "OK\r\n"
     ]
    }
   ],
   "source": [
    "# 测试是否安装成功\n",
    "!python ppdet/modeling/tests/test_architectures.py"
   ]
  },
  {
   "cell_type": "markdown",
   "metadata": {},
   "source": [
    "- 获取PP-TinyPose官方行人检测模型和关键点检测模型\n",
    "    \n",
    "    （具体见https://github.com/PaddlePaddle/PaddleDetection/blob/develop/configs/keypoint/tiny_pose/README.md）"
   ]
  },
  {
   "cell_type": "code",
   "execution_count": null,
   "metadata": {
    "scrolled": true
   },
   "outputs": [],
   "source": [
    "# 下载模型\n",
    "!mkdir -p output_inference\n",
    "%cd output_inference\n",
    "# 下载行人检测模型s\n",
    "!wget https://bj.bcebos.com/v1/paddledet/models/keypoint/tinypose_enhance/picodet_s_320_lcnet_pedestrian.zip\n",
    "!unzip picodet_s_320_lcnet_pedestrian.zip\n",
    "# 下载关键点检测模型\n",
    "!wget https://bj.bcebos.com/v1/paddledet/models/keypoint/tinypose_enhance/tinypose_128x96.zip\n",
    "!unzip tinypose_128x96.zip"
   ]
  },
  {
   "cell_type": "markdown",
   "metadata": {},
   "source": [
    "- 当然你也可以参考官方案例尝试一下该模型的使用（预测一张图片/一个视频）"
   ]
  },
  {
   "cell_type": "code",
   "execution_count": null,
   "metadata": {
    "scrolled": true
   },
   "outputs": [],
   "source": [
    "%cd PaddleDetection\n",
    "%mkdir -p demo_input demo_output"
   ]
  },
  {
   "cell_type": "code",
   "execution_count": null,
   "metadata": {
    "scrolled": true
   },
   "outputs": [],
   "source": [
    "# 预测一张图片\n",
    "!wget -P demo_input -N https://paddledet.bj.bcebos.com/modelcenter/images/PP-TinyPose/000000568213.jpg\n",
    "!python deploy/python/det_keypoint_unite_infer.py --det_model_dir=output_inference/picodet_v2_s_320_pedestrian --keypoint_model_dir=output_inference/tinypose_128x96 --image_file=demo_input/000000568213.jpg --device=GPU --output_dir=demo_output"
   ]
  },
  {
   "cell_type": "code",
   "execution_count": null,
   "metadata": {
    "scrolled": true
   },
   "outputs": [],
   "source": [
    "# 预测一个视频\n",
    "!wget -P demo_input -N https://paddledet.bj.bcebos.com/modelcenter/images/PP-TinyPose/demo_PP-TinyPose.mp4\n",
    "!python deploy/python/det_keypoint_unite_infer.py --det_model_dir=output_inference/picodet_v2_s_320_pedestrian --keypoint_model_dir=output_inference/tinypose_128x96 --video_file=demo_input/demo_PP-TinyPose.mp4 --device=GPU --output_dir=demo_output"
   ]
  },
  {
   "cell_type": "markdown",
   "metadata": {},
   "source": [
    "我们将模型的使用融合到了文件当中，具体可见bodycatch.py文件"
   ]
  },
  {
   "cell_type": "markdown",
   "metadata": {},
   "source": [
    "## ✨3.2 运动动作解析与初步评估\n",
    "采用**状态栈分析法**进行运动动作识别：状态栈分析法是团队自行设计的一种具有高精度、高安全性、可扩展等优点的动作识别算法，被用于运动者动作的识别、统计与纠错，也被用于数据集原始视频的预处理。状态栈分析法可以精确解构运动动作姿态，为大模型提供高质量的数据信息。\n",
    "- 以下示例代码为引体向上姿态解析部分"
   ]
  },
  {
   "cell_type": "code",
   "execution_count": null,
   "metadata": {
    "scrolled": true
   },
   "outputs": [],
   "source": [
    "def count_up_down(angle_array, sport_num, sport_state, sport_error_num, pointer):  #引体向上\n",
    "    print(sport_state)\n",
    "    p1 = 0\n",
    "    p2 = 1\n",
    "    if pointer[0] < 5:\n",
    "        if np.array_equal(sport_state, [1, 2, 3, 2, 1]) or np.array_equal(sport_state, [1, 3, 1, 0, 0]) \\\n",
    "                or np.array_equal(sport_state, [1, 2, 3, 1, 0]) or np.array_equal(sport_state, [1, 3, 2, 1, 0]):\n",
    "            sport_state *= 0\n",
    "            print('add'+str(sport_num[0]))\n",
    "            pointer[0] = -1\n",
    "            sport_num[0] += 1\n",
    "            suggestion.clear()\n",
    "            append_the_file(file_name1)\n",
    "            suggestion.append(\"无\")\n",
    "        \n",
    "        elif np.array_equal(sport_state, [1, 2, 1, 0, 0]):\n",
    "            sport_state *= 0\n",
    "            pointer[0] = -1\n",
    "            sport_error_num[0] += 1\n",
    "            suggestion.append(\"引起时头颈未超越杠杆杠面\")\n",
    "            append_the_file(file_name2)\n",
    "            append_error_file(1)\n",
    "        \n",
    "        elif np.array_equal(sport_state, [1, 2, 3, 2, 3]) or np.array_equal(sport_state, [1,3,2,3,0]):\n",
    "            sport_state *= 0\n",
    "            pointer[0] = -1\n",
    "            sport_num[0] += 1\n",
    "            sport_error_num[1] += 1\n",
    "            suggestion.append(\"手肘角度过小，还原时请呈直臂悬垂姿势\")\n",
    "            append_the_file(file_name2)\n",
    "            append_error_file(2)\n",
    "\n",
    "    else:\n",
    "        sport_state *= 0\n",
    "        pointer[0] = -1\n",
    "        angleArrayBuffer.clear()\n",
    "        suggestion.append(\"无\")\n",
    "\n",
    "    if angle_array:\n",
    "        angle_print = [angle_array[p1], angle_array[p2]]\n",
    "        if angle_array[p1] < 75 or angle_array[p2] < 75:  # 3\n",
    "            if pointer[0] == -1 or pointer[0] == 4:\n",
    "                return pointer\n",
    "            if sport_state[pointer[0]] != 3:\n",
    "                pointer[0] += 1\n",
    "                sport_state[pointer[0]] = 3\n",
    "        elif angle_array[p1] > 100 or angle_array[p2] > 100:  # 1\n",
    "            if pointer[0] == 4:\n",
    "                return pointer\n",
    "            if pointer[0] == -1 or sport_state[pointer[0]] != 1:\n",
    "                pointer[0] += 1\n",
    "                sport_state[pointer[0]] = 1\n",
    "        else:  # 2\n",
    "            if pointer[0] == -1 or pointer[0] == 4:\n",
    "                return pointer\n",
    "            if sport_state[pointer[0]] != 2:\n",
    "                pointer[0] += 1\n",
    "                sport_state[pointer[0]] = 2\n",
    "        angleArrayBuffer.append(str(int(angle_array[p1])) + ' ' + str(int(angle_array[p2])) + '\\n')\n",
    "    return pointer"
   ]
  },
  {
   "cell_type": "markdown",
   "metadata": {},
   "source": [
    "## ✨3.3 ERNIE SDK的使用"
   ]
  },
  {
   "cell_type": "markdown",
   "metadata": {},
   "source": [
    "### 🎇3.3.1 配置ERNIE SDK参数"
   ]
  },
  {
   "cell_type": "code",
   "execution_count": null,
   "metadata": {
    "scrolled": true
   },
   "outputs": [],
   "source": [
    "import erniebot\n",
    "\n",
    "# 配置api和token，以及所使用的模型\n",
    "erniebot.api_type = 'aistudio' # aistudio后端的access token\n",
    "erniebot.access_token = '' # 填入自己的token\n",
    "model = 'ernie-4.0'"
   ]
  },
  {
   "cell_type": "markdown",
   "metadata": {},
   "source": [
    "### 🎇3.3.2 设置prompt"
   ]
  },
  {
   "cell_type": "markdown",
   "metadata": {},
   "source": [
    "- prompt.txt文件中为预设示例提示词，sport_conclusion.txt文件中是通过预处理得到的运动数据汇总"
   ]
  },
  {
   "cell_type": "code",
   "execution_count": 2,
   "metadata": {
    "execution": {
     "iopub.execute_input": "2024-10-08T12:33:16.197558Z",
     "iopub.status.busy": "2024-10-08T12:33:16.196999Z",
     "iopub.status.idle": "2024-10-08T12:33:16.205276Z",
     "shell.execute_reply": "2024-10-08T12:33:16.204374Z",
     "shell.execute_reply.started": "2024-10-08T12:33:16.197524Z"
    },
    "scrolled": true
   },
   "outputs": [
    {
     "name": "stdout",
     "output_type": "stream",
     "text": [
      "假如你是一名专业体育老师，具有对各项体育运动的问题分析的能力，并能够针对性地给出正确的锻炼建议和计划，你现在需要完成一份学生运动报告的撰写。\r\n",
      "\r\n",
      "[数据信息]\r\n",
      "1. 我会为你提供某位同学某次运动的具体数据。数据含义依次为：性别 （1为女生 0为男生）年龄 运动项目（1代表仰卧起坐 2代表俯卧撑 3代表引体向上） 总个数 时间（以秒为单位） 标准个数 失误个数 第一种类型错误的个数 第二种类型的错误的个数\r\n",
      "2. 我给你的数据格式为全数字，分别对应上述的信息例如：1 18 1 15 30 10 5 3 2\r\n",
      "\r\n",
      "[具体要求]\r\n",
      "1. 必须严格按照和回答范例相同的格式书写，不能以任何形式改变格式。该要求为最高优先级。\r\n",
      "2. 报告内容必须包含有<**动作评价**>、<**改进建议**>和<**锻炼建议**>三个部分。\r\n",
      "3. 请你根据以上数据，并利用你的运动体育知识给出相应的动作评价和改进锻炼建议\r\n",
      "4. 改进建议和锻炼计划都必须使用表格形式输出，保持与回答范例格式一致。\r\n",
      "5. 如果运动项目为仰卧起坐，那么只输出对仰卧起坐这个动作的评价和锻炼建议，为俯卧撑就只输出俯卧撑，为引体向上就只输出引体向上。\r\n",
      "6. 我们将上述三种运动，拿仰卧起坐举例，将每一次仰卧起坐分为三个阶段 1->2->1，第一种错误为1->2出错，第二种错误为2->1出错。\r\n",
      "7. 请你根据我给出的数据给出动作的评价和之后的锻炼改进建议。\r\n",
      "\r\n",
      "[回答范例]\r\n",
      "{\r\n",
      "同学你好，根据你本次的运动情况，生成了如下的报告。\r\n",
      "\r\n",
      "| 性别 | 年龄 | 运动项目 | 总个数 | 时间 | 标准个数/失误个数 |\r\n",
      "|----|----|-------|------|-----|---------|\r\n",
      "| 0 (男生) | 20 | 2 (俯卧撑) | 20 | 30s | 13/7 |\r\n",
      "\r\n",
      "**动作评价：**\r\n",
      "根据你提供的数据，得出你本次俯卧撑的情况：\r\n",
      "\r\n",
      "1. **姿势正确性**：首先，俯卧撑姿势的正确性对于锻炼效果至关重要。正确的姿势应该是双手与肩同宽，掌心贴地，手臂与地面平行，背部与臀部保持一条直线。这样可以确保你的胸部、肩部和手臂都能得到充分的锻炼。请注意避免屁股抬高或塌腰的情况，这会降低胸部和肱三头肌的受力，并增加腰部和脊椎的负担。\r\n",
      "\r\n",
      "2. **俯卧撑的完整性**：在20个俯卧撑中，你完成了13个标准的俯卧撑，这是一个不错的成绩。但还有7个俯卧撑并没有达到标准。标准的俯卧撑应该是从完全下降到完全上升，动作流畅、连贯，并且保持姿势稳定。未达标的俯卧撑可能是由于下降幅度不够，上升速度过快或不稳定，导致动作不完整。\r\n",
      "\r\n",
      "3. **失误类型分析**：你提到了两种类型的错误。第一种类型的错误是从1到2的转换出错，第二种类型的错误是从2到1的转换出错。这可能意味着在俯卧撑的过程中，你的动作转换不够流畅，可能存在以下问题：\r\n",
      "- **第一种错误**：可能是由于在下降的过程中控制不住身体，导致无法稳定转换到下一个动作。这可能与胸部和肱三头肌力量不足有关。\r\n",
      "- **第二种错误**：可能是由于没有完全伸展手臂或者没有保持身体的稳定性。这可能与胸部和肱三头肌的力量耐力不足有关。\r\n",
      "\r\n",
      "**改进建议：**\r\n",
      "根据上述评价，这里给出一些针对性的改进建议：\r\n",
      "\r\n",
      "| 阶段 | 动作描述 | 锻炼目标 | 建议 |\r\n",
      "|----|-------|------|-----|\r\n",
      "| 1 | 下降 | 增强胸肌力量 | 在下降的过程中，保持身体的稳定性，控制下降速度，确保完全触地。 |\r\n",
      "| 2 | 上升 | 增强肱二头肌力量 | 在上升的过程中，注重肱二头肌的发力，保持身体的稳定性，控制上升速度。 |\r\n",
      "| 3 | 转换 | 提高动作流畅性 | 在转换的过程中，注意身体的稳定性，确保动作的连贯性和流畅性。 |\r\n",
      "\r\n",
      "**锻炼计划：**\r\n",
      "建议你每周至少进行3次俯卧撑的训练，每次训练20-30分钟。具体的训练计划可以如下安排：\r\n",
      "\r\n",
      "| 周次 | 训练内容 | 组数 | 次数/时长 | 休息时间 |\r\n",
      "|----|-------|------|---------|--------|\r\n",
      "| 周一 | 俯卧撑训练 | 4 | 12次 | 1-2分钟 |\r\n",
      "| 周三 | 胸肌训练 | 3 | 8-10次 | 1-2分钟 |\r\n",
      "| 周五 | 俯卧撑训练 | 5 | 15次 | 1-2分钟 |\r\n",
      "\r\n",
      "随着时间的推移，你可以逐渐增加每次训练的俯卧撑次数和时间，同时注意姿势的正确性和动作的流畅性。另外适当地加入其他胸肌和肱二头肌训练，如卧推、哑铃飞鸟等，以全面提升胸肌和肱二头肌的力量。\r\n",
      "\r\n",
      "希望以上建议对你的锻炼有所帮助，持之以恒，定能达到更好的训练效果！\r\n",
      "}\r\n",
      "\r\n",
      "[待撰写的运动报告数据]\r\n",
      "现在，请基于以上回答范例和要求，完成对以下数据的运动报告撰写：0 18 3 30 60 45 15 11 4\r\n"
     ]
    }
   ],
   "source": [
    "def make_prompt(prompt_file, data_file):\n",
    "    with open(prompt_file, 'r', encoding='utf-8') as f:\n",
    "        prompt = f.read()\n",
    "    with open(data_file, 'r', encoding='utf-8') as f:\n",
    "        data = f.read()\n",
    "    return prompt + data\n",
    "\n",
    "prompt_file = \"./prompt.txt\"\n",
    "data_file = \"./sport_conclusion.txt\"\n",
    "prompt = make_prompt(prompt_file, data_file)\n",
    "print(prompt)"
   ]
  },
  {
   "cell_type": "markdown",
   "metadata": {},
   "source": [
    "### 🎇3.3.3 写入文件"
   ]
  },
  {
   "cell_type": "code",
   "execution_count": null,
   "metadata": {
    "scrolled": true
   },
   "outputs": [],
   "source": [
    "response = erniebot.ChatCompletion.create(    \n",
    "    model=model,    \n",
    "    messages=[{\"role\": \"user\", \"content\": prompt}],  \n",
    ")\n",
    "# 假设你有一个多行字符串  \n",
    "multi_line_string = response.result\n",
    "# 将多行字符串按行分割  \n",
    "lines = multi_line_string.splitlines()     \n",
    "with open('./tmp_text/test.txt', 'w', encoding='utf-8') as text_file:\n",
    "    for line in lines:  \n",
    "        file.write(line + '\\n')  # 将每一行写入文件并换行\n",
    "print(\"done\")"
   ]
  },
  {
   "cell_type": "markdown",
   "metadata": {},
   "source": [
    "## ✨3.4 MoELoRA微调"
   ]
  },
  {
   "cell_type": "markdown",
   "metadata": {},
   "source": [
    "### 🎇3.4.1 ERNIE 3.0 轻量级模型训练"
   ]
  },
  {
   "cell_type": "markdown",
   "metadata": {},
   "source": [
    "百度ERNIE系列模型有多款开源模型，我们这里就ERNIE 3.0进行探讨。文心大模型 ERNIE 3.0 作为百亿参数知识增强的大模型，除了从海量文本数据中学习词汇、结构、语义等知识外，还从大规模知识图谱中学习。 基础上通过在线蒸馏技术得到的轻量级模型，模型结构与 ERNIE 2.0 保持一致，相比 ERNIE 2.0 具有更强的中文效果。\n",
    "\n",
    "相关技术详解可参考文章[《解析全球最大中文单体模型鹏城-百度·文心技术细节》](https://www.jiqizhixin.com/articles/2021-12-08-9)\n",
    "\n",
    "![](https://user-images.githubusercontent.com/26483581/175260618-610a160c-270c-469a-842c-96871243c4ed.png)"
   ]
  },
  {
   "cell_type": "markdown",
   "metadata": {},
   "source": [
    "我们可以参考官方给的案例尝试进行模型微调。\n",
    "- 数据准备：以 CLUE 数据集进行模型微调相关训练、预测、部署的代码, CLUE 数据集是中文语言理解测评基准数据集，包括了文本分类、文本推理、实体抽取、问答等相关数据集。"
   ]
  },
  {
   "cell_type": "code",
   "execution_count": null,
   "metadata": {
    "scrolled": true
   },
   "outputs": [],
   "source": [
    "from paddlenlp.datasets import load_dataset\n",
    "\n",
    "# Load the clue Tnews dataset\n",
    "train_ds, test_ds = load_dataset('clue', 'tnews', splits=('train', 'test'))"
   ]
  },
  {
   "cell_type": "markdown",
   "metadata": {},
   "source": [
    "- 模型训练：使用 PaddleNLP 只需要一行代码可以拿到 ERNIE 3.0 系列模型，之后可以在自己的下游数据下进行微调，从而获得具体任务上效果更好的模型。"
   ]
  },
  {
   "cell_type": "code",
   "execution_count": null,
   "metadata": {
    "scrolled": true
   },
   "outputs": [],
   "source": [
    "from paddlenlp.transformers import *\n",
    "\n",
    "tokenizer = AutoTokenizer.from_pretrained(\"ernie-3.0-medium-zh\")\n",
    "\n",
    "# 用于分类任务\n",
    "seq_cls_model = AutoModelForSequenceClassification.from_pretrained(\"ernie-3.0-medium-zh\")\n",
    "\n",
    "# 用于序列标注任务\n",
    "token_cls_model = AutoModelForTokenClassification.from_pretrained(\"ernie-3.0-medium-zh\")\n",
    "\n",
    "# 用于阅读理解任务\n",
    "qa_model = AutoModelForQuestionAnswering.from_pretrained(\"ernie-3.0-medium-zh\")"
   ]
  },
  {
   "cell_type": "markdown",
   "metadata": {},
   "source": [
    "本项目提供了针对分类（包含文本分类、文本匹配、自然语言推理、代词消歧等任务）、序列标注、阅读理解三大场景下微调的示例脚本，可分别参考 run_seq_cls.py 、run_token_cls.py、run_qa.py 三个脚本，启动方式如下："
   ]
  },
  {
   "cell_type": "code",
   "execution_count": null,
   "metadata": {
    "scrolled": true
   },
   "outputs": [],
   "source": [
    "# 分类任务\n",
    "# 该脚本共支持 CLUE 中 7 个分类任务，超参不全相同，因此分类任务中的超参配置利用 config.yml 配置\n",
    "# --device 选择训练模型的硬件，可选 cpu/gpu/xpu/npu，默认为 gpu。xpu 为昆仑芯片，npu 为昇腾芯片。\n",
    "!python run_seq_cls.py  --model_name_or_path ernie-3.0-medium-zh  --dataset afqmc --output_dir ./best_models --export_model_dir best_models/ --do_train --do_eval --do_export --config=configs/default.yml\n",
    "\n",
    "# 序列标注任务\n",
    "!python run_token_cls.py --model_name_or_path ernie-3.0-medium-zh --dataset msra_ner --output_dir ./best_models --export_model_dir best_models/ --do_train --do_eval --do_export --config=configs/default.yml\n",
    "\n",
    "# 阅读理解任务\n",
    "!python run_qa.py --model_name_or_path ernie-3.0-medium-zh --dataset cmrc2018  --output_dir ./best_models --export_model_dir best_models/ --do_train --do_eval --do_export --config=configs/default.yml"
   ]
  },
  {
   "cell_type": "markdown",
   "metadata": {},
   "source": [
    "### 🎇3.4.2 MoELoRA\n",
    "\n",
    "![](https://ai-studio-static-online.cdn.bcebos.com/92333009d28c40a8b45149c86b62694e328efef26ecd41298c8403700b77b29d)\n",
    "\n",
    "现有体育教学领域的专用大模型微调主要面临三个问题：任务多样性导致难以统一微调适用于专业运动报告生成、教学教案生成、专业知识回答等多种任务的模型；高微调成本使得为每个特定任务单独微调模型消耗大量资源且不现实；跷跷板效应导致多任务微调时出现知识遗忘，影响整体调优效果。\n",
    "\n",
    "MoELoRA框架结合了LoRA技术的参数效率和MoE的专家模型思路，专门针对体育教学中的多任务需求（如运动报告生成、教学教案生成、专业知识回答）进行了优化。MoELoRA能够有效解决微调成本高、知识遗忘等问题，提升了大模型在体育领域的适用性。通过飞桨AI Studio平台对模型进行训练、微调和部署，实现了对多任务微调的高效管理，极大提升了用户的体育教学体验。\n",
    "\n",
    "相关论文：[When MOE Meets LLMs: Parameter Efficient Fine-tuning for Multi-task Medical Applications](https://arxiv.org/abs/2310.18339)"
   ]
  },
  {
   "cell_type": "markdown",
   "metadata": {},
   "source": [
    "# ![](https://ai-studio-static-online.cdn.bcebos.com/f09c4d4627784151b1f2ab17283294fe6d66caa10a5e4582b241d914cb4d39a7)四、应用前景\n",
    "---\n",
    "## ✨4.1 政策推动\n",
    "政策层面，“健康中国”一直是国家重点的发展战略，政府近年来加强了对青少年身体素质的重视程度以及对体育教学的管理，出台了一系列政策文件，如《关于全面加强和改进新时代学校体育工作的意见》、《体育法》第三章第二十四条等，强调加强学校体育工作，提高学生体质健康水平。《“十四五”体育发展规划》强调，要把握数字化转型的新趋势，大力提升体育场地设施的智慧化水平。预计到2035年我国体育产业总量占GDP的比重将达到4%左右，显示出国家对体育产业发展的高度重视。\n",
    "\n",
    "在二十大报告中提出要建设现代化产业体系。推动战略性新兴产业融合集群发展，构建新一代信息技术、人工智能等一批新的增长引擎。而在2024年两会会议上，国务院总理李强提出，大力推进现代化产业体系建设，加快发展新质生产力。其中一个措施便是深入推进数字经济创新发展，深化大数据、人工智能等研发应用，开展“人工智能+”行动，打造具有国际竞争力的数字产业集群。可见在国家的大力支持下，AI 智慧体育系统的发展更是迎来了前所未有的机遇。\n",
    "## ✨4.2 市场需求\n",
    "随着教育体系改革和国家对体育健康教育的重视，公众对高质量、个性化体育课堂的需求日益迫切。根据中国教科院数据，全国义务教育阶段体育教师缺额约15万人，且专业教师主要集中在经济发达地区。学生数量多、教师缺乏、资源分布不均及教学质量不高等问题，推动了对智慧体育系统的需求。据《中国智慧体育发展报告》预测，到2025年，智慧体育产品市场规模将达到约2100亿元。而2023年的市场规模已经达到了1500亿元，其中智能健身市场规模达380亿元，智能场馆市场规模接近200亿元，智能可穿戴设备市场规模预计也将达到400亿元。\n",
    "\n",
    "总体来看，智慧体育行业在未来有很大的市场前景，预计随着技术的进步和政策的支持，智慧体育将在体育产业中占据越来越重要的地位。"
   ]
  }
 ],
 "metadata": {
  "kernelspec": {
   "display_name": "Python 3",
   "language": "python",
   "name": "py35-paddle1.2.0"
  },
  "language_info": {
   "codemirror_mode": {
    "name": "ipython",
    "version": 3
   },
   "file_extension": ".py",
   "mimetype": "text/x-python",
   "name": "python",
   "nbconvert_exporter": "python",
   "pygments_lexer": "ipython3",
   "version": "3.10.10"
  },
  "toc-autonumbering": false,
  "toc-showtags": false
 },
 "nbformat": 4,
 "nbformat_minor": 4
}
